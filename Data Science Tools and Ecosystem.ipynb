{
 "cells": [
  {
   "cell_type": "markdown",
   "id": "1e1fc241",
   "metadata": {},
   "source": [
    "# Data science Tools and Ecosystem"
   ]
  },
  {
   "cell_type": "markdown",
   "id": "3333751e",
   "metadata": {},
   "source": [
    "In this notebook, Data Science Tools and Ecosystem are summarized."
   ]
  },
  {
   "cell_type": "markdown",
   "id": "8b5b0464",
   "metadata": {},
   "source": [
    "Some of the popular languages that Data Scientists use are:\n",

    "    1. Python\n",
    "    2.SQL\n",
    "    3. R\n",
    "    4.C++\n",
    "    5. Java etc."
   ]
  },
  {
   "cell_type": "markdown",
   "id": "cb711452",
   "metadata": {},
   "source": [
    "Some of the commonly used libraries used by Data Scientists include:\n",
    "    1. Tensorflow.\n",
    "    2. Numpy\n",
    "    3. scipy\n",
    "    4. Pandas\n",
    "    5. Matplotlib\n",
    "    6. Keras,etc."
   ]
  },
  {
   "cell_type": "markdown",
   "id": "5c6e4f56",
   "metadata": {},
   "source": [
    "|Data Science Tools|\n",
    "|---|\n",
    "|SAS|\n",
    "|Apache Hadoop|\n",
    "| tensorFlow|"
   ]
  },
  {
   "cell_type": "markdown",
   "id": "9765e9b4",
   "metadata": {},
   "source": [
    "### Below are a few examples of evaluating arithmetic expressions in Python.\n"
   ]
  },
  {
   "cell_type": "code",
   "execution_count": 3,
   "id": "b8139a6e",
   "metadata": {},
   "outputs": [
    {
     "data": {
      "text/plain": [
       "17"
      ]
     },
     "execution_count": 3,
     "metadata": {},
     "output_type": "execute_result"
    }
   ],
   "source": [
    "#This a simple arithmetic expression to mutiply then add integers.\n",
    "(3*4)+5"
   ]
  },
  {
   "cell_type": "code",
   "execution_count": 6,
   "id": "5a42d862",
   "metadata": {},
   "outputs": [
    {
     "data": {
      "text/plain": [
       "3.3333333333333335"
      ]
     },
     "execution_count": 6,
     "metadata": {},
     "output_type": "execute_result"
    }
   ],
   "source": [
    " #This will convert 200 minutes to hours by diving by 60.\n",
    "200/60"
   ]
  },
  {
   "cell_type": "markdown",
   "id": "78630d85",
   "metadata": {},
   "source": [
    "__Objective__\n",
    "* Popular languages in data science\n",
    "* Popular libraries in dat science\n",
    "* How to perform arithmetic function in jupiter\n",
    "* How to comment on jupiter\n",
    "* How to make list "
   ]
  },
  {
   "cell_type": "markdown",
   "id": "e5f5513a",
   "metadata": {},
   "source": [
    "__Author__\n",
    "Shreyashi Mahanty"
   ]
  },
  {
   "cell_type": "code",
   "execution_count": null,
   "id": "26ff50c1",
   "metadata": {},
   "outputs": [],
   "source": []
  }
 ],
 "metadata": {
  "kernelspec": {
   "display_name": "Python 3 (ipykernel)",
   "language": "python",
   "name": "python3"
  },
  "language_info": {
   "codemirror_mode": {
    "name": "ipython",
    "version": 3
   },
   "file_extension": ".py",
   "mimetype": "text/x-python",
   "name": "python",
   "nbconvert_exporter": "python",
   "pygments_lexer": "ipython3",
   "version": "3.11.5"
  }
 },
 "nbformat": 4,
 "nbformat_minor": 5
}
